{
 "cells": [
  {
   "cell_type": "code",
   "execution_count": 36,
   "id": "d7ad4667-ab08-423f-abdf-54f8d6703e86",
   "metadata": {},
   "outputs": [
    {
     "name": "stdout",
     "output_type": "stream",
     "text": [
      "[['physics', '98'], ['calculus', '97'], ['poetry', '86'], ['history', '88']]\n",
      "[['physics', '98'], ['calculus', '97'], ['poetry', '86'], ['history', '88'], ['computer science', '100'], ['virtual art', '93']]\n",
      "[['physics', '98'], ['calculus', '97'], ['poetry', '86'], ['history', '88'], ['computer science', '100'], ['virtual art', '98']]\n",
      "[['physics', '98'], ['calculus', '97'], ['poetry', 'pass'], ['history', '88'], ['computer science', '100'], ['virtual art', '98']]\n",
      "[['physics', '98'], ['calculus', '97'], ['poetry', 'pass'], ['history', '88'], ['computer science', '100'], ['virtual art', '98'], ['politics', 80], ['latin', 96], ['dance', 97], ['architecture', 65]]\n"
     ]
    }
   ],
   "source": [
    "subject = [\"physics\", \"calculus\", \"poetry\", \"history\"]\n",
    "grades = [\"98\", \"97\", \"86\", \"88\"]\n",
    "\n",
    "gradebook = [[\"physics\",\"98\"],[\"calculus\",\"97\"],[\"poetry\",\"86\"],[\"history\",\"88\"]]\n",
    "print(gradebook)\n",
    "\n",
    "append1 = [\"computer science\", \"100\"]\n",
    "gradebook.append(append1)\n",
    "append2 = [\"virtual art\", \"93\"]\n",
    "gradebook.append(append2)\n",
    "print(gradebook)\n",
    "\n",
    "gradebook[5].remove(\"93\")\n",
    "gradebook[5].append(\"98\")\n",
    "print(gradebook)\n",
    "\n",
    "gradebook[2].remove(\"86\")\n",
    "gradebook[2].append(\"pass\")\n",
    "print(gradebook)\n",
    "\n",
    "last_semester_gradebook = [[\"politics\", 80], [\"latin\", 96], [\"dance\", 97], [\"architecture\", 65]]\n",
    "\n",
    "full_gradebook = gradebook + last_semester_gradebook\n",
    "print(full_gradebook)"
   ]
  },
  {
   "cell_type": "code",
   "execution_count": null,
   "id": "6b6af0c8-0b7b-49a9-819f-2b8f4fca73cf",
   "metadata": {},
   "outputs": [],
   "source": []
  }
 ],
 "metadata": {
  "kernelspec": {
   "display_name": "Python 3 (ipykernel)",
   "language": "python",
   "name": "python3"
  },
  "language_info": {
   "codemirror_mode": {
    "name": "ipython",
    "version": 3
   },
   "file_extension": ".py",
   "mimetype": "text/x-python",
   "name": "python",
   "nbconvert_exporter": "python",
   "pygments_lexer": "ipython3",
   "version": "3.9.12"
  }
 },
 "nbformat": 4,
 "nbformat_minor": 5
}
